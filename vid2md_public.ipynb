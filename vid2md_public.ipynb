{
  "nbformat": 4,
  "nbformat_minor": 0,
  "metadata": {
    "colab": {
      "provenance": [],
      "collapsed_sections": [
        "NwF-0RBd7so9",
        "wuZd0rM47lOG",
        "WMvCstQLSvaj",
        "jywLp1GfTKSb",
        "JYF1fcLFTSYN",
        "UQa9u_5O7gi_",
        "-FJ6A9_b794k",
        "SPm6VhlraGB4",
        "UZeAA8IBaexG",
        "tJBNlwckt_kb",
        "7DFn9Haba3WQ"
      ],
      "authorship_tag": "ABX9TyOJnahzuAMVNBm6fgRSUmNk",
      "include_colab_link": true
    },
    "kernelspec": {
      "name": "python3",
      "display_name": "Python 3"
    },
    "language_info": {
      "name": "python"
    }
  },
  "cells": [
    {
      "cell_type": "markdown",
      "metadata": {
        "id": "view-in-github",
        "colab_type": "text"
      },
      "source": [
        "<a href=\"https://colab.research.google.com/github/alex-petrov-git/konspektum/blob/main/vid2md_public.ipynb\" target=\"_parent\"><img src=\"https://colab.research.google.com/assets/colab-badge.svg\" alt=\"Open In Colab\"/></a>"
      ]
    },
    {
      "cell_type": "markdown",
      "source": [
        "Как пользоваться:\n",
        "\n",
        "1. Загрузи необходимые зависимости (см ячейку ниже)\n",
        "2. Для работы с YandexGPT (опционально):\n",
        " - загрузите файл с промптом под названием prompt.txt (в файлах Google Colab), [пример файла с промптом](https://drive.google.com/file/d/1wXR-T4d4bZUokKqHZrUjbttdyGloxu31/view?usp=drive_link)\n",
        " - вставьте свои YC_FOLDER_ID и YC_TOKEN в части 1.4 ноутбука\n",
        "3. Во вкладке \"Среда выполнения\" нажми \"перезапустить сеанс и выполнить весь код\"\n",
        "4. Дождись пока запустится последняя ячейка\n",
        "5. Отправляй боту https://t.me/vid2md_bot ссылку на видео ([например](https://drive.google.com/file/d/1PqifWs7x8k-8K2P-T0XkfamGbi6HcUnR/view?usp=drive_link)) с публичным доступом (гугл/яндекс диск).\n",
        "6. Полученный от бота markdown файл вставляй в obsidian vault"
      ],
      "metadata": {
        "id": "JAKoUQ3CGt9F"
      }
    },
    {
      "cell_type": "code",
      "source": [
        "# if you need to delete smth\n",
        "#!rm -r slide_images"
      ],
      "metadata": {
        "id": "uyGrH-8Sa-cB"
      },
      "execution_count": null,
      "outputs": []
    },
    {
      "cell_type": "code",
      "source": [
        "# dependencies\n",
        "#!pip install pyTelegramBotAPI\n",
        "#!pip install -U openai-whisper\n",
        "#!sudo apt update\n",
        "#!sudo apt install tesseract-ocr\n",
        "#!sudo apt install tesseract-ocr-rus\n",
        "#!pip install pytesseract\n",
        "#!pip install moviepy\n",
        "#!pip install pix2tex\n",
        "#!pip install yandex-cloud-ml-sdk"
      ],
      "metadata": {
        "id": "TcRYJT4GWB2j"
      },
      "execution_count": null,
      "outputs": []
    },
    {
      "cell_type": "code",
      "execution_count": null,
      "metadata": {
        "id": "IePNRjezJfbk"
      },
      "outputs": [],
      "source": [
        "import telebot\n",
        "import requests\n",
        "import re\n",
        "from moviepy.editor import VideoFileClip\n",
        "import whisper\n",
        "import os\n",
        "import time\n",
        "import cv2\n",
        "import os\n",
        "from PIL import Image, ImageEnhance\n",
        "import pytesseract\n",
        "import threading\n",
        "import difflib\n",
        "import pandas as pd\n",
        "import time\n",
        "from pix2tex import cli as pix2tex_cli\n",
        "from yandex_cloud_ml_sdk import YCloudML"
      ]
    },
    {
      "cell_type": "code",
      "source": [
        "BOT_TOKEN = '8184444332:AAHxlP0YAmoAAnYouePKWTm0hjhVWEar6vQ'\n",
        "bot = telebot.TeleBot(BOT_TOKEN)"
      ],
      "metadata": {
        "id": "CMgi8cH-mPjM"
      },
      "execution_count": null,
      "outputs": []
    },
    {
      "cell_type": "code",
      "source": [
        "@bot.message_handler(commands=['start'])\n",
        "def send_welcome(message):\n",
        "    bot.reply_to(message, \"\"\"\\\n",
        "Привет! Я бот для транскрибации учебных видео в конспекты Obsidian.\n",
        "Пожалуйста, отправьте мне публичную ссылку на видеофайл Google Диска или Yandex Disk.\\\n",
        "\"\"\")"
      ],
      "metadata": {
        "id": "RhLaFhGP7Pat"
      },
      "execution_count": null,
      "outputs": []
    },
    {
      "cell_type": "markdown",
      "source": [
        "## Main function"
      ],
      "metadata": {
        "id": "NwF-0RBd7so9"
      }
    },
    {
      "cell_type": "code",
      "source": [
        "@bot.message_handler(func=lambda message: True)\n",
        "def handle_message(message):\n",
        "    bot.reply_to(message, \"Начинаю обработку...\")\n",
        "    print(f\"[{time.strftime('%Y-%m-%d %H:%M:%S')}] Получено сообщение от пользователя {message.chat.id}: {message.text}\")\n",
        "    video_filepath = download_video(message.text)\n",
        "\n",
        "    if video_filepath:\n",
        "        transcription_result, slides_result, audio_filepath = process_downloaded_video(bot, video_filepath, message)\n",
        "\n",
        "        if transcription_result and slides_result:\n",
        "            transcription = transcription_result.get('transcription')\n",
        "            slide_data = slides_result.get('slide_data', {})\n",
        "            saved_image_paths = slides_result.get('saved_image_paths', {})\n",
        "\n",
        "            if transcription is not None:\n",
        "                bot.reply_to(message, \"Обработка видео завершена, генерирую конспект.\")\n",
        "                print(f\"[{time.strftime('%Y-%m-%d %H:%M:%S')}] Обработка видео завершена, генерирую конспект.\")\n",
        "                md_content = generate_markdown(saved_image_paths, transcription, video_filepath, slide_data)\n",
        "\n",
        "                # Генерация конспекта с помощью YandexGPT с использованием промпта из файла\n",
        "                prompt_file = '/content/prompt.txt'\n",
        "                summary = generate_summary_with_yandexgpt(md_content, prompt_file)\n",
        "\n",
        "                if summary:\n",
        "                    print(f\"[{time.strftime('%Y-%m-%d %H:%M:%S')}] Конспект сгенерирован с помощью YandexGPT (промпт из файла).\")\n",
        "                    send_markdown_file(bot, message.chat.id, summary) # Отправляем сгенерированный конспект\n",
        "                else:\n",
        "                    print(f\"[{time.strftime('%Y-%m-%d %H:%M:%S')}] Не удалось сгенерировать конспект с помощью YandexGPT. Отправляю базовый Markdown.\")\n",
        "                    send_markdown_file(bot, message.chat.id, md_content) # Отправляем базовый Markdown\n",
        "\n",
        "                cleanup_files(video_filepath, audio_filepath)\n",
        "                print(f\"[{time.strftime('%Y-%m-%d %H:%M:%S')}] Конспект отправлен пользователю {message.chat.id}.\")\n",
        "\n",
        "            else:\n",
        "                bot.reply_to(message, \"Произошла ошибка при транскрибации аудио.\")\n",
        "                print(f\"[{time.strftime('%Y-%m-%d %H:%M:%S')}] Ошибка при транскрибации аудио для видео: {video_filepath}\")\n",
        "        else:\n",
        "            bot.reply_to(message, \"Произошла ошибка при обработке видео.\")\n",
        "            print(f\"[{time.strftime('%Y-%m-%d %H:%M:%S')}] Ошибка при обработке видео: {video_filepath}\")\n",
        "    else:\n",
        "        bot.reply_to(message, \"Пожалуйста, отправьте корректную публичную ссылку на видео с Google Диска или Yandex Disk.\")\n",
        "        print(f\"[{time.strftime('%Y-%m-%d %H:%M:%S')}] Пользователь {message.chat.id} отправил некорректную ссылку: {message.text}\")\n"
      ],
      "metadata": {
        "id": "46MrWr3yloI1"
      },
      "execution_count": null,
      "outputs": []
    },
    {
      "cell_type": "markdown",
      "source": [
        "## 1. General processing"
      ],
      "metadata": {
        "id": "wuZd0rM47lOG"
      }
    },
    {
      "cell_type": "markdown",
      "source": [
        "### 1.1 Скачивание видео"
      ],
      "metadata": {
        "id": "WMvCstQLSvaj"
      }
    },
    {
      "cell_type": "code",
      "source": [
        "def download_video(message_text):\n",
        "    video_filepath = None\n",
        "    if 'drive.google.com' in message_text:\n",
        "        print(f\"[{time.strftime('%Y-%m-%d %H:%M:%S')}] Начинаю скачивание файла с Google Диска...\")\n",
        "        video_filepath = download_google_drive_file(message_text)\n",
        "        if video_filepath:\n",
        "            print(f\"[{time.strftime('%Y-%m-%d %H:%M:%S')}] Файл с Google Диска успешно скачан: {video_filepath}\")\n",
        "        else:\n",
        "            print(f\"[{time.strftime('%Y-%m-%d %H:%M:%S')}] Не удалось скачать файл с Google Диска.\")\n",
        "    elif 'yadi.sk' in message_text:\n",
        "        print(f\"[{time.strftime('%Y-%m-%d %H:%M:%S')}] Начинаю скачивание файла с Yandex Disk...\")\n",
        "        video_filepath = download_yandex_disk_file(message_text)\n",
        "        if video_filepath:\n",
        "            print(f\"[{time.strftime('%Y-%m-%d %H:%M:%S')}] Файл с Yandex Disk успешно скачан: {video_filepath}\")\n",
        "        else:\n",
        "            print(f\"[{time.strftime('%Y-%m-%d %H:%M:%S')}] Не удалось скачать файл с Yandex Disk.\")\n",
        "    else:\n",
        "        print(f\"[{time.strftime('%Y-%m-%d %H:%M:%S')}] Получена некорректная ссылка: {message_text}\")\n",
        "    return video_filepath\n",
        "\n",
        "def download_google_drive_file(url):\n",
        "    try:\n",
        "        # Извлекаем ID файла из URL\n",
        "        file_id = None\n",
        "        match = re.search(r'id=([^&]+)', url)\n",
        "        if match:\n",
        "            file_id = match.group(1)\n",
        "        else:\n",
        "            match = re.search(r'/d/([^/]+)/', url)\n",
        "            if match:\n",
        "                file_id = match.group(1)\n",
        "\n",
        "        if file_id:\n",
        "            gdrive_url = f\"https://drive.google.com/uc?id={file_id}&export=download\"\n",
        "            response = requests.get(gdrive_url, stream=True)\n",
        "            response.raise_for_status()  # Проверяем, что запрос был успешным\n",
        "\n",
        "            filename = f\"gdrive_video_{file_id}.mp4\" # Можно сделать более умное определение расширения\n",
        "            filepath = f\"/content/{filename}\"\n",
        "            print(f\"[{time.strftime('%Y-%m-%d %H:%M:%S')}] Начинаю запись файла с Google Диска: {filepath}\")\n",
        "            with open(filepath, \"wb\") as f:\n",
        "                for chunk in response.iter_content(chunk_size=8192):\n",
        "                    f.write(chunk)\n",
        "            print(f\"[{time.strftime('%Y-%m-%d %H:%M:%S')}] Файл с Google Диска успешно записан: {filepath}\")\n",
        "            return filepath\n",
        "        else:\n",
        "            print(f\"[{time.strftime('%Y-%m-%d %H:%M:%S')}] Не удалось извлечь ID файла из URL Google Диска: {url}\")\n",
        "            return None\n",
        "    except requests.exceptions.RequestException as e:\n",
        "        print(f\"[{time.strftime('%Y-%m-%d %H:%M:%S')}] Ошибка при скачивании файла с Google Диска: {e}\")\n",
        "        return None\n",
        "\n",
        "def download_yandex_disk_file(url):\n",
        "    try:\n",
        "        base_url = 'https://cloud-api.yandex.net/v1/disk/public/resources/download'\n",
        "        params = {'public_key': url}\n",
        "        response = requests.get(base_url, params=params)\n",
        "        response.raise_for_status()\n",
        "        download_url = response.json()['href']\n",
        "        file_response = requests.get(download_url, stream=True)\n",
        "        file_response.raise_for_status()\n",
        "\n",
        "        filename = \"yandex_video.mp4\" # Опять же, можно улучшить определение расширения\n",
        "        filepath = f\"/content/{filename}\"\n",
        "        print(f\"[{time.strftime('%Y-%m-%d %H:%M:%S')}] Начинаю запись файла с Yandex Disk: {filepath}\")\n",
        "        with open(filepath, \"wb\") as f:\n",
        "            for chunk in file_response.iter_content(chunk_size=8192):\n",
        "                f.write(chunk)\n",
        "        print(f\"[{time.strftime('%Y-%m-%d %H:%M:%S')}] Файл с Yandex Disk успешно записан: {filepath}\")\n",
        "        return filepath\n",
        "    except requests.exceptions.RequestException as e:\n",
        "        print(f\"[{time.strftime('%Y-%m-%d %H:%M:%S')}] Ошибка при скачивании файла с Yandex Disk: {e}\")\n",
        "        return None\n",
        "    except KeyError:\n",
        "        print(f\"[{time.strftime('%Y-%m-%d %H:%M:%S')}] Не удалось получить ссылку на скачивание с Yandex Disk.\")\n",
        "        return None"
      ],
      "metadata": {
        "id": "mhsn-GP-luUj"
      },
      "execution_count": null,
      "outputs": []
    },
    {
      "cell_type": "markdown",
      "source": [
        "### 1.2 Извлечение информации"
      ],
      "metadata": {
        "id": "jywLp1GfTKSb"
      }
    },
    {
      "cell_type": "code",
      "source": [
        "def process_downloaded_video(bot, video_filepath, message):\n",
        "    print(f\"[{time.strftime('%Y-%m-%d %H:%M:%S')}] Начинаю обработку видео: {video_filepath}\")\n",
        "    audio_filepath = extract_audio(video_filepath)\n",
        "    if audio_filepath:\n",
        "        bot.reply_to(message, \"Аудио извлечено. Запускаю обработку...\")\n",
        "        print(f\"[{time.strftime('%Y-%m-%d %H:%M:%S')}] Аудио извлечено: {audio_filepath}\")\n",
        "        try:\n",
        "            clip = VideoFileClip(video_filepath)\n",
        "            duration_seconds = clip.duration\n",
        "            clip.close()\n",
        "            estimated_time_minutes = int(duration_seconds * (10/7) / 60)\n",
        "            estimated_time_seconds = estimated_time_minutes * 60 if estimated_time_minutes > 0 else 60 # Если оценка 0, ставим хотя бы минуту\n",
        "\n",
        "            progress_message = bot.send_message(message.chat.id, f\"Обработка началась: [ ] 0%\")\n",
        "            progress_bar_length = 20\n",
        "            start_time = time.time()\n",
        "            previous_progress_percent = -1 # Инициализируем значением, которое точно будет отличаться\n",
        "\n",
        "            transcription_result = {}\n",
        "            slides_result = {}\n",
        "\n",
        "            audio_thread = threading.Thread(target=transcribe_audio_thread, args=(audio_filepath, transcription_result))\n",
        "            video_thread = threading.Thread(target=process_video_frames_thread, args=(video_filepath, slides_result))\n",
        "\n",
        "            audio_thread.start()\n",
        "            video_thread.start()\n",
        "            print(f\"[{time.strftime('%Y-%m-%d %H:%M:%S')}] Запущены потоки транскрибации и обработки видео.\")\n",
        "\n",
        "            while audio_thread.is_alive() or video_thread.is_alive():\n",
        "                elapsed_time = time.time() - start_time\n",
        "                progress_percent = min(100, int((elapsed_time / (estimated_time_seconds + 30)) * 100)) # Добавляем небольшой запас в 30 секунд\n",
        "\n",
        "                if progress_percent != previous_progress_percent: # Проверяем, изменился ли прогресс\n",
        "                    filled_length = int(progress_bar_length * progress_percent // 100)\n",
        "                    bar = '█' * filled_length + '-' * (progress_bar_length - filled_length)\n",
        "                    bot.edit_message_text(f\"Обработка: [{bar}] {progress_percent}%\", message.chat.id, progress_message.message_id)\n",
        "                    previous_progress_percent = progress_percent # Обновляем предыдущий процент\n",
        "\n",
        "                time.sleep(5) # Обновляем прогресс каждые 5 секунд\n",
        "\n",
        "            # Финальное обновление до 100% (гарантируем, что сообщение обновится при завершении)\n",
        "            bot.edit_message_text(f\"Обработка завершена: [{'█' * progress_bar_length}] 100%\", message.chat.id, progress_message.message_id)\n",
        "            print(f\"[{time.strftime('%Y-%m-%d %H:%M:%S')}] Потоки транскрибации и обработки видео завершены.\")\n",
        "\n",
        "            return transcription_result, slides_result, audio_filepath\n",
        "        except Exception as e:\n",
        "            print(f\"[{time.strftime('%Y-%m-%d %H:%M:%S')}] Ошибка при определении длительности видео: {e}\")\n",
        "            bot.send_message(message.chat.id, \"Транскрибация и анализ слайдов запущены. Пожалуйста, подождите.\")\n",
        "            # Если не удалось определить длительность, запускаем потоки без прогресс-бара\n",
        "            transcription_result = {}\n",
        "            slides_result = {}\n",
        "            audio_thread = threading.Thread(target=transcribe_audio_thread, args=(audio_filepath, transcription_result))\n",
        "            video_thread = threading.Thread(target=process_video_frames_thread, args=(video_filepath, slides_result))\n",
        "            audio_thread.start()\n",
        "            video_thread.start()\n",
        "            print(f\"[{time.strftime('%Y-%m-%d %H:%M:%S')}] Запущены потоки транскрибации и обработки видео (без прогресс-бара).\")\n",
        "            audio_thread.join()\n",
        "            video_thread.join()\n",
        "            print(f\"[{time.strftime('%Y-%m-%d %H:%M:%S')}] Потоки транскрибации и обработки видео завершены (без прогресс-бара).\")\n",
        "            return transcription_result, slides_result, audio_filepath\n",
        "    else:\n",
        "        bot.reply_to(message, \"Произошла ошибка при извлечении аудио из видео.\")\n",
        "        print(f\"[{time.strftime('%Y-%m-%d %H:%M:%S')}] Ошибка при извлечении аудио из видео: {video_filepath}\")\n",
        "        return None, None, None"
      ],
      "metadata": {
        "id": "IdaBueACTRHr"
      },
      "execution_count": null,
      "outputs": []
    },
    {
      "cell_type": "markdown",
      "source": [
        "### 1.3 Генерация и отправка .md файла"
      ],
      "metadata": {
        "id": "JYF1fcLFTSYN"
      }
    },
    {
      "cell_type": "code",
      "source": [
        "def generate_markdown(saved_image_paths, transcription, video_filepath, slide_data): # Убрали slide_texts\n",
        "    md_content = \"# Полная транскрибация\\n\\n\"\n",
        "    md_content += f\"{transcription}\\n\\n\"\n",
        "\n",
        "    md_content += \"# Информативные слайды\\n\\n\"\n",
        "    informative_slides_data = sorted(slide_data.items())\n",
        "    for timestamp, data in informative_slides_data:\n",
        "        md_content += f\"**Время:** {timestamp}\\n\\n\"\n",
        "        md_content += f\"{data['text']}\\n\\n\"\n",
        "        if data['formulas']:\n",
        "            md_content += \"## Формулы:\\n\\n\"\n",
        "            for formula in data['formulas']:\n",
        "                md_content += f\"$${formula}$$\\n\\n\"\n",
        "        if data['tables']:\n",
        "            md_content += \"## Таблицы:\\n\\n\"\n",
        "            for table in data['tables']:\n",
        "                # Здесь нужно будет реализовать форматирование таблицы в Markdown\n",
        "                md_content += f\"```\\n{table}\\n```\\n\\n\" # Пока просто выводим как есть\n",
        "        md_content += \"---\\n\\n\"\n",
        "\n",
        "    return md_content\n",
        "\n",
        "def send_markdown_file(bot, chat_id, md_content):\n",
        "    with open(\"output.md\", \"w\") as f:\n",
        "        f.write(md_content)\n",
        "    with open(\"output.md\", \"rb\") as file:\n",
        "        bot.send_document(chat_id, file)\n",
        "    os.remove(\"output.md\") # Удаляем временный файл после отправки\n",
        "    print(f\"[{time.strftime('%Y-%m-%d %H:%M:%S')}] Markdown файл отправлен в чат {chat_id}.\")\n",
        "\n",
        "def cleanup_files(video_filepath, audio_filepath, slide_images_dir='slide_images'):\n",
        "    print(f\"[{time.strftime('%Y-%m-%d %H:%M:%S')}] Начинаю очистку временных файлов.\")\n",
        "    if os.path.exists(video_filepath):\n",
        "        os.remove(video_filepath)\n",
        "        print(f\"[{time.strftime('%Y-%m-%d %H:%M:%S')}] Удален видеофайл: {video_filepath}\")\n",
        "    if audio_filepath and os.path.exists(audio_filepath):\n",
        "        os.remove(audio_filepath)\n",
        "        print(f\"[{time.strftime('%Y-%m-%d %H:%M:%S')}] Удален аудиофайл: {audio_filepath}\")\n",
        "    if os.path.exists(slide_images_dir):\n",
        "        for filename in os.listdir(slide_images_dir):\n",
        "            file_path = os.path.join(slide_images_dir, filename)\n",
        "            try:\n",
        "                if os.path.isfile(file_path) or os.path.islink(file_path):\n",
        "                    os.unlink(file_path)\n",
        "            except Exception as e:\n",
        "                print(f\"[{time.strftime('%Y-%m-%d %H:%M:%S')}] Ошибка при удалении {file_path}: {e}\")\n",
        "        os.rmdir(slide_images_dir)\n",
        "        print(f\"[{time.strftime('%Y-%m-%d %H:%M:%S')}] Удалена директория слайдов: {slide_images_dir}\")\n",
        "    print(f\"[{time.strftime('%Y-%m-%d %H:%M:%S')}] Очистка временных файлов завершена.\")"
      ],
      "metadata": {
        "id": "1btG7pTeTeOH"
      },
      "execution_count": null,
      "outputs": []
    },
    {
      "cell_type": "markdown",
      "source": [
        "### 1.4 Формирование итогового конспекта с помощью YandexGPT"
      ],
      "metadata": {
        "id": "iIJobdJJdM2O"
      }
    },
    {
      "cell_type": "code",
      "source": [
        "def generate_summary_with_yandexgpt(markdown_content, prompt_file_path):\n",
        "    YC_FOLDER_ID = 'YOUR_FOLDER_ID'\n",
        "    YC_TOKEN = 'YOUR_TOKEN'\n",
        "\n",
        "    try:\n",
        "        with open(prompt_file_path, 'r', encoding='utf-8') as f:\n",
        "            llm_prompt = f.read()\n",
        "    except Exception as e:\n",
        "        print(f\"[{time.strftime('%Y-%m-%d %H:%M:%S')}] Ошибка при чтении файла с промптом: {e}\")\n",
        "        return None\n",
        "\n",
        "    try:\n",
        "        sdk = YCloudML(\n",
        "            folder_id=YC_FOLDER_ID,\n",
        "            auth=YC_TOKEN,\n",
        "        )\n",
        "\n",
        "        model = sdk.models.completions(model_name=\"yandexgpt\", model_version=\"rc\") # можно менять модель\n",
        "        model = model.configure(temperature=0.2, max_tokens=20000)\n",
        "        print(llm_prompt)\n",
        "        result = model.run(llm_prompt + \"\\n\\n\" + markdown_content)\n",
        "        return result.alternatives[0].text\n",
        "    except Exception as e:\n",
        "        print(f\"[{time.strftime('%Y-%m-%d %H:%M:%S')}] Ошибка при взаимодействии с YandexGPT API (ML SDK): {e}\")\n",
        "        return None"
      ],
      "metadata": {
        "id": "JS7_1qCqdYWR"
      },
      "execution_count": null,
      "outputs": []
    },
    {
      "cell_type": "markdown",
      "source": [
        "## 2. Обработка аудио"
      ],
      "metadata": {
        "id": "UQa9u_5O7gi_"
      }
    },
    {
      "cell_type": "code",
      "source": [
        "def extract_audio(video_path):\n",
        "    try:\n",
        "        print(f\"[{time.strftime('%Y-%m-%d %H:%M:%S')}] Извлекаю аудио из видео: {video_path}\")\n",
        "        videoclip = VideoFileClip(video_path)\n",
        "        audio_path = video_path.replace(os.path.splitext(video_path)[1], \".mp3\")\n",
        "        videoclip.audio.write_audiofile(audio_path)\n",
        "        videoclip.close()\n",
        "        print(f\"[{time.strftime('%Y-%m-%d %H:%M:%S')}] Аудио успешно извлечено: {audio_path}\")\n",
        "        return audio_path\n",
        "    except Exception as e:\n",
        "        print(f\"[{time.strftime('%Y-%m-%d %H:%M:%S')}] Ошибка при извлечении аудио: {e}\")\n",
        "        return None\n",
        "\n",
        "def transcribe_audio_thread(audio_path, result):\n",
        "    try:\n",
        "        print(f\"[{time.strftime('%Y-%m-%d %H:%M:%S')}] Запущена транскрибация аудио: {audio_path}\")\n",
        "        model = whisper.load_model(\"small\") # Используем модель \"small\"\n",
        "        result['transcription'] = model.transcribe(audio_path)[\"text\"]\n",
        "        print(f\"[{time.strftime('%Y-%m-%d %H:%M:%S')}] Транскрибация аудио завершена.\")\n",
        "    except Exception as e:\n",
        "        print(f\"[{time.strftime('%Y-%m-%d %H:%M:%S')}] Ошибка при транскрибации аудио: {e}\")\n",
        "        result['transcription'] = None"
      ],
      "metadata": {
        "id": "T5PPIxaglbDp"
      },
      "execution_count": null,
      "outputs": []
    },
    {
      "cell_type": "markdown",
      "source": [
        "## 3. Обработка видео"
      ],
      "metadata": {
        "id": "-FJ6A9_b794k"
      }
    },
    {
      "cell_type": "markdown",
      "source": [
        "### 3.1 Извлечение и сохранение информативных кадров"
      ],
      "metadata": {
        "id": "SPm6VhlraGB4"
      }
    },
    {
      "cell_type": "code",
      "source": [
        "def extract_frames(video_path, output_dir='frames', interval=5):\n",
        "    print(f\"[{time.strftime('%Y-%m-%d %H:%M:%S')}] Начинаю извлечение кадров из видео: {video_path} с интервалом {interval} секунд.\")\n",
        "    if not os.path.exists(output_dir):\n",
        "        os.makedirs(output_dir)\n",
        "        print(f\"[{time.strftime('%Y-%m-%d %H:%M:%S')}] Создана директория для кадров: {output_dir}\")\n",
        "\n",
        "    cap = cv2.VideoCapture(video_path)\n",
        "    if not cap.isOpened():\n",
        "        print(f\"[{time.strftime('%Y-%m-%d %H:%M:%S')}] Не удалось открыть видеофайл: {video_path}\")\n",
        "        return []\n",
        "\n",
        "    frame_rate = cap.get(cv2.CAP_PROP_FPS)\n",
        "    total_frames = int(cap.get(cv2.CAP_PROP_FRAME_COUNT))\n",
        "    duration = total_frames / frame_rate\n",
        "    frames_to_extract = set(range(0, total_frames, int(interval * frame_rate)))\n",
        "    saved_frames = []\n",
        "    frame_count = 0\n",
        "\n",
        "    while True:\n",
        "        ret, frame = cap.read()\n",
        "        if not ret:\n",
        "            break\n",
        "\n",
        "        if frame_count in frames_to_extract:\n",
        "            frame_filename = os.path.join(output_dir, f\"frame_{int(frame_count / frame_rate):03d}.png\")\n",
        "            cv2.imwrite(frame_filename, frame)\n",
        "            saved_frames.append(frame_filename)\n",
        "\n",
        "        frame_count += 1\n",
        "\n",
        "    cap.release()\n",
        "    print(f\"[{time.strftime('%Y-%m-%d %H:%M:%S')}] Извлечение кадров завершено. Сохранено {len(saved_frames)} кадров.\")\n",
        "    return saved_frames\n",
        "\n",
        "def preprocess_image(image_path):\n",
        "    try:\n",
        "        img = Image.open(image_path).convert('L')\n",
        "        enhancer = ImageEnhance.Contrast(img)\n",
        "        img = enhancer.enhance(1.5)\n",
        "        enhancer = ImageEnhance.Brightness(img)\n",
        "        img = enhancer.enhance(1.2)\n",
        "        return img\n",
        "    except Exception as e:\n",
        "        print(f\"[{time.strftime('%Y-%m-%d %H:%M:%S')}] Ошибка при предобработке изображения {image_path}: {e}\")\n",
        "        return None\n",
        "\n",
        "def extract_informative_frames(video_filepath, similarity_threshold=0.6):\n",
        "    frames_dir = 'frames'\n",
        "    if not os.path.exists(frames_dir):\n",
        "        os.makedirs(frames_dir)\n",
        "\n",
        "    extracted_frames = extract_frames(video_filepath, frames_dir)\n",
        "    informative_frames = {}\n",
        "    all_frame_paths = extracted_frames  # Сохраняем пути ко всем кадрам для последующей очистки\n",
        "    print(f\"[{time.strftime('%Y-%m-%d %H:%M:%S')}] Начинаю анализ кадров на информативность (порог {similarity_threshold}).\")\n",
        "\n",
        "    previous_text = None\n",
        "    for frame_path in extracted_frames:\n",
        "        timestamp_sec = int(frame_path.split('_')[-1].split('.')[0])\n",
        "        timestamp_str = f\"{timestamp_sec // 60:02d}:{timestamp_sec % 60:02d}\"\n",
        "        full_text = extract_text_from_frame(frame_path) # Извлекаем текст для сравнения\n",
        "\n",
        "        if full_text:\n",
        "            if previous_text is None:\n",
        "                informative_frames[timestamp_str] = frame_path\n",
        "                print(f\"[{time.strftime('%Y-%m-%d %H:%M:%S')}] Информативный слайд найден (первый): {timestamp_str}\")\n",
        "            else:\n",
        "                similarity = difflib.SequenceMatcher(None, previous_text, full_text).ratio()\n",
        "                if similarity < similarity_threshold:\n",
        "                    informative_frames[timestamp_str] = frame_path\n",
        "                    print(f\"[{time.strftime('%Y-%m-%d %H:%M:%S')}] Информативный слайд найден (изменение): {timestamp_str}, схожесть: {similarity:.2f}\")\n",
        "\n",
        "            previous_text = full_text\n",
        "        else:\n",
        "            print(f\"[{time.strftime('%Y-%m-%d %H:%M:%S')}] Не удалось извлечь текст из кадра: {frame_path}\")\n",
        "\n",
        "    print(f\"[{time.strftime('%Y-%m-%d %H:%M:%S')}] Анализ кадров завершен. Найдено {len(informative_frames)} информативных слайдов.\")\n",
        "    return informative_frames, all_frame_paths\n",
        "\n",
        "def save_informative_frames(informative_frames, output_dir='slide_images'):\n",
        "    if not os.path.exists(output_dir):\n",
        "        os.makedirs(output_dir)\n",
        "        print(f\"[{time.strftime('%Y-%m-%d %H:%M:%S')}] Создана директория для информативных слайдов: {output_dir}\")\n",
        "\n",
        "    saved_image_paths = {}\n",
        "    for timestamp, frame_path in informative_frames.items():\n",
        "        image_filename = os.path.join(output_dir, f\"slide_{timestamp.replace(':', '_')}.png\")\n",
        "        os.rename(frame_path, image_filename)\n",
        "        saved_image_paths[timestamp] = image_filename\n",
        "        print(f\"[{time.strftime('%Y-%m-%d %H:%M:%S')}] Информативный слайд сохранен как: {image_filename}\")\n",
        "    return saved_image_paths"
      ],
      "metadata": {
        "id": "t9QBHPkaaEmj"
      },
      "execution_count": null,
      "outputs": []
    },
    {
      "cell_type": "markdown",
      "source": [
        "### 3.2 Извлечение текста из кадров"
      ],
      "metadata": {
        "id": "UZeAA8IBaexG"
      }
    },
    {
      "cell_type": "code",
      "source": [
        "def extract_text_from_frame(frame_path, lang='rus'):\n",
        "    try:\n",
        "        img = preprocess_image(frame_path)\n",
        "        if img:\n",
        "            text = pytesseract.image_to_string(img, lang=lang)\n",
        "            return text.strip()\n",
        "        else:\n",
        "            return \"\"\n",
        "    except Exception as e:\n",
        "        print(f\"[{time.strftime('%Y-%m-%d %H:%M:%S')}] Ошибка при распознавании текста на кадре {frame_path}: {e}\")\n",
        "        return \"\""
      ],
      "metadata": {
        "id": "yw9yWDNBamyb"
      },
      "execution_count": null,
      "outputs": []
    },
    {
      "cell_type": "markdown",
      "source": [
        "### 3.3 Извлечение формул из кадров"
      ],
      "metadata": {
        "id": "tJBNlwckt_kb"
      }
    },
    {
      "cell_type": "code",
      "source": [
        "def contains_math_symbols(text, symbols=['=', '+', '*', '/', 'формула']):\n",
        "    for symbol in symbols:\n",
        "        if symbol in text:\n",
        "            return True\n",
        "    return False\n",
        "\n",
        "def extract_formulas(image_path, extracted_text):\n",
        "    if contains_math_symbols(extracted_text):\n",
        "        try:\n",
        "            print(f\"[{time.strftime('%Y-%m-%d %H:%M:%S')}] Обнаружены математические символы. Запускаю pix2tex для: {image_path}\")\n",
        "            output = pix2tex_cli.process(image_path)\n",
        "            if output:\n",
        "                print(f\"[{time.strftime('%Y-%m-%d %H:%M:%S')}] Формула извлечена: {output}\")\n",
        "                return [output]\n",
        "            else:\n",
        "                print(f\"[{time.strftime('%Y-%m-%d %H:%M:%S')}] Pix2tex не обнаружил формул.\")\n",
        "                return []\n",
        "        except Exception as e:\n",
        "            print(f\"[{time.strftime('%Y-%m-%d %H:%M:%S')}] Ошибка при извлечении формул из {image_path}: {e}\")\n",
        "            return []\n",
        "    else:\n",
        "        print(f\"[{time.strftime('%Y-%m-%d %H:%M:%S')}] Математические символы не найдены в тексте.\")\n",
        "        return []"
      ],
      "metadata": {
        "id": "NnlSeILXuFlI"
      },
      "execution_count": null,
      "outputs": []
    },
    {
      "cell_type": "markdown",
      "source": [
        "### 3.4 General slides processing"
      ],
      "metadata": {
        "id": "7DFn9Haba3WQ"
      }
    },
    {
      "cell_type": "code",
      "source": [
        "def cleanup_temporary_files(all_frame_paths, frames_dir='frames', slide_images_dir='slide_images'):\n",
        "    print(f\"[{time.strftime('%Y-%m-%d %H:%M:%S')}] Начинаю удаление временных файлов кадров.\")\n",
        "    for frame_path in all_frame_paths:\n",
        "        if os.path.exists(frame_path):\n",
        "            os.remove(frame_path)\n",
        "            print(f\"[{time.strftime('%Y-%m-%d %H:%M:%S')}] Удален временный файл: {frame_path}\")\n",
        "\n",
        "    if os.path.exists(frames_dir):\n",
        "        os.rmdir(frames_dir)\n",
        "        print(f\"[{time.strftime('%Y-%m-%d %H:%M:%S')}] Удалена временная директория: {frames_dir}\")\n",
        "\n",
        "def process_video_frames_thread(video_filepath, result):\n",
        "    print(f\"[{time.strftime('%Y-%m-%d %H:%M:%S')}] Запущен поток обработки видеокадров для: {video_filepath}\")\n",
        "    informative_frames, all_frame_paths = extract_informative_frames(video_filepath) # Получаем только информативные кадры и их пути\n",
        "    saved_image_paths = save_informative_frames(informative_frames)\n",
        "    slide_data = {} # Словарь для хранения текста, таблиц и формул для каждого слайда\n",
        "\n",
        "    for timestamp, image_path in saved_image_paths.items():\n",
        "        print(f\"[{time.strftime('%Y-%m-%d %H:%M:%S')}] Обрабатываю слайд {timestamp} ({image_path})\")\n",
        "        full_text = extract_text_from_frame(image_path) # Извлекаем текст здесь\n",
        "        formulas = extract_formulas(image_path, full_text) # Передаем извлеченный текст\n",
        "        slide_data[timestamp] = {'text': full_text, 'formulas': formulas, 'tables': []} # Таблицы пока пустые\n",
        "        print(f\"[{time.strftime('%Y-%m-%d %H:%M:%S')}] Завершена обработка слайда {timestamp}.\")\n",
        "\n",
        "    cleanup_temporary_files(all_frame_paths)\n",
        "    print(f\"[{time.strftime('%Y-%m-%d %H:%M:%S')}] Завершена обработка потока видеокадров.\")\n",
        "\n",
        "    result['slide_data'] = slide_data\n",
        "    result['saved_image_paths'] = saved_image_paths"
      ],
      "metadata": {
        "id": "lZZ63BinmASL"
      },
      "execution_count": null,
      "outputs": []
    },
    {
      "cell_type": "markdown",
      "source": [
        "## ЗАПУСК БОТА"
      ],
      "metadata": {
        "id": "-FgyU79G8Xx1"
      }
    },
    {
      "cell_type": "code",
      "source": [
        "bot.polling(none_stop=True)"
      ],
      "metadata": {
        "id": "swDTYEruRt9j"
      },
      "execution_count": null,
      "outputs": []
    }
  ]
}